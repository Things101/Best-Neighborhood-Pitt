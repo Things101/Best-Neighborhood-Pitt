{
 "cells": [
  {
   "cell_type": "markdown",
   "metadata": {},
   "source": [
    "<h2>DataSet: <a href=\"https://data.wprdc.org/dataset/arrest-data\">Pittsburgh Police Arrest Data</a></h2>\n",
    "\n",
    "This notebook focuses on the areas where people have been taken into custody. One submetric of being the best neighborhood in Pittsburgh would be safety. This notebook would evaluate the safety of certain neighborhoods in Pittsburgh to a particular degree."
   ]
  },
  {
   "cell_type": "markdown",
   "metadata": {},
   "source": [
    "These are the necessary libraries for this notebook:"
   ]
  },
  {
   "cell_type": "code",
   "execution_count": 1,
   "metadata": {},
   "outputs": [],
   "source": [
    "import pandas as pd\n",
    "import numpy as np\n",
    "%matplotlib inline\n",
    "import matplotlib.pyplot as plt\n",
    "import geopandas\n",
    "import seaborn as sb"
   ]
  },
  {
   "cell_type": "code",
   "execution_count": 2,
   "metadata": {},
   "outputs": [],
   "source": [
    "# load csv file with index column as a date\n",
    "data = pd.read_csv(\"arrests.csv\",\n",
    "                           index_col=\"ARRESTTIME\", \n",
    "                           parse_dates=True)"
   ]
  },
  {
   "cell_type": "markdown",
   "metadata": {},
   "source": [
    "Lets take a look at the information contained in this data"
   ]
  },
  {
   "cell_type": "code",
   "execution_count": 3,
   "metadata": {},
   "outputs": [
    {
     "data": {
      "text/html": [
       "<div>\n",
       "<style scoped>\n",
       "    .dataframe tbody tr th:only-of-type {\n",
       "        vertical-align: middle;\n",
       "    }\n",
       "\n",
       "    .dataframe tbody tr th {\n",
       "        vertical-align: top;\n",
       "    }\n",
       "\n",
       "    .dataframe thead th {\n",
       "        text-align: right;\n",
       "    }\n",
       "</style>\n",
       "<table border=\"1\" class=\"dataframe\">\n",
       "  <thead>\n",
       "    <tr style=\"text-align: right;\">\n",
       "      <th></th>\n",
       "      <th>_id</th>\n",
       "      <th>PK</th>\n",
       "      <th>CCR</th>\n",
       "      <th>AGE</th>\n",
       "      <th>GENDER</th>\n",
       "      <th>RACE</th>\n",
       "      <th>ARRESTLOCATION</th>\n",
       "      <th>OFFENSES</th>\n",
       "      <th>INCIDENTLOCATION</th>\n",
       "      <th>INCIDENTNEIGHBORHOOD</th>\n",
       "      <th>INCIDENTZONE</th>\n",
       "      <th>INCIDENTTRACT</th>\n",
       "      <th>COUNCIL_DISTRICT</th>\n",
       "      <th>PUBLIC_WORKS_DIVISION</th>\n",
       "      <th>X</th>\n",
       "      <th>Y</th>\n",
       "    </tr>\n",
       "    <tr>\n",
       "      <th>ARRESTTIME</th>\n",
       "      <th></th>\n",
       "      <th></th>\n",
       "      <th></th>\n",
       "      <th></th>\n",
       "      <th></th>\n",
       "      <th></th>\n",
       "      <th></th>\n",
       "      <th></th>\n",
       "      <th></th>\n",
       "      <th></th>\n",
       "      <th></th>\n",
       "      <th></th>\n",
       "      <th></th>\n",
       "      <th></th>\n",
       "      <th></th>\n",
       "      <th></th>\n",
       "    </tr>\n",
       "  </thead>\n",
       "  <tbody>\n",
       "    <tr>\n",
       "      <th>2016-08-24 12:20:00</th>\n",
       "      <td>1</td>\n",
       "      <td>1975272</td>\n",
       "      <td>16158872</td>\n",
       "      <td>42.0</td>\n",
       "      <td>F</td>\n",
       "      <td>B</td>\n",
       "      <td>4700 Block Centre AV Pittsburgh, PA 15213</td>\n",
       "      <td>3929 Retail Theft.</td>\n",
       "      <td>4700 Block Centre AV Pittsburgh, PA 15213</td>\n",
       "      <td>Bloomfield</td>\n",
       "      <td>5</td>\n",
       "      <td>804.0</td>\n",
       "      <td>8.0</td>\n",
       "      <td>2.0</td>\n",
       "      <td>-79.949277</td>\n",
       "      <td>40.452551</td>\n",
       "    </tr>\n",
       "    <tr>\n",
       "      <th>2016-08-03 14:55:00</th>\n",
       "      <td>2</td>\n",
       "      <td>1974456</td>\n",
       "      <td>16144120</td>\n",
       "      <td>31.0</td>\n",
       "      <td>M</td>\n",
       "      <td>W</td>\n",
       "      <td>4200 Block Steubenville PKE Pittsburgh, PA 15205</td>\n",
       "      <td>13(a)(16) Possession of Controlled Substance</td>\n",
       "      <td>4200 Block Steubenville PKE Pittsburgh, PA 15205</td>\n",
       "      <td>Outside City</td>\n",
       "      <td>OSC</td>\n",
       "      <td>5599.0</td>\n",
       "      <td>NaN</td>\n",
       "      <td>NaN</td>\n",
       "      <td>-80.088018</td>\n",
       "      <td>40.440136</td>\n",
       "    </tr>\n",
       "    <tr>\n",
       "      <th>2016-08-03 16:45:00</th>\n",
       "      <td>3</td>\n",
       "      <td>1974466</td>\n",
       "      <td>16144165</td>\n",
       "      <td>63.0</td>\n",
       "      <td>F</td>\n",
       "      <td>B</td>\n",
       "      <td>900 Block Freeport RD Fox Chapel, PA 15238</td>\n",
       "      <td>3929 Retail Theft.</td>\n",
       "      <td>900 Block Freeport RD Fox Chapel, PA 15238</td>\n",
       "      <td>Westwood</td>\n",
       "      <td>5</td>\n",
       "      <td>2811.0</td>\n",
       "      <td>9.0</td>\n",
       "      <td>2.0</td>\n",
       "      <td>-79.891803</td>\n",
       "      <td>40.486625</td>\n",
       "    </tr>\n",
       "    <tr>\n",
       "      <th>2016-08-05 02:36:00</th>\n",
       "      <td>4</td>\n",
       "      <td>1974550</td>\n",
       "      <td>16145257</td>\n",
       "      <td>25.0</td>\n",
       "      <td>F</td>\n",
       "      <td>W</td>\n",
       "      <td>Foreland ST &amp; Cedar AV Pittsburgh, PA 15212</td>\n",
       "      <td>5503 Disorderly Conduct. / 5505 Public Drunken...</td>\n",
       "      <td>Foreland ST &amp; Cedar AV Pittsburgh, PA 15212</td>\n",
       "      <td>East Allegheny</td>\n",
       "      <td>1</td>\n",
       "      <td>2304.0</td>\n",
       "      <td>1.0</td>\n",
       "      <td>1.0</td>\n",
       "      <td>-80.001939</td>\n",
       "      <td>40.454080</td>\n",
       "    </tr>\n",
       "    <tr>\n",
       "      <th>2016-08-06 02:00:00</th>\n",
       "      <td>5</td>\n",
       "      <td>1974596</td>\n",
       "      <td>16145962</td>\n",
       "      <td>25.0</td>\n",
       "      <td>M</td>\n",
       "      <td>B</td>\n",
       "      <td>900 Block Woodlow ST Pittsburgh, PA 15205</td>\n",
       "      <td>2702 Aggravated Assault. / 2705 Recklessy Enda...</td>\n",
       "      <td>900 Block Woodlow ST Pittsburgh, PA 15205</td>\n",
       "      <td>Crafton Heights</td>\n",
       "      <td>5</td>\n",
       "      <td>2814.0</td>\n",
       "      <td>2.0</td>\n",
       "      <td>5.0</td>\n",
       "      <td>-80.052204</td>\n",
       "      <td>40.445900</td>\n",
       "    </tr>\n",
       "  </tbody>\n",
       "</table>\n",
       "</div>"
      ],
      "text/plain": [
       "                     _id       PK       CCR   AGE GENDER RACE  \\\n",
       "ARRESTTIME                                                      \n",
       "2016-08-24 12:20:00    1  1975272  16158872  42.0      F    B   \n",
       "2016-08-03 14:55:00    2  1974456  16144120  31.0      M    W   \n",
       "2016-08-03 16:45:00    3  1974466  16144165  63.0      F    B   \n",
       "2016-08-05 02:36:00    4  1974550  16145257  25.0      F    W   \n",
       "2016-08-06 02:00:00    5  1974596  16145962  25.0      M    B   \n",
       "\n",
       "                                                       ARRESTLOCATION  \\\n",
       "ARRESTTIME                                                              \n",
       "2016-08-24 12:20:00         4700 Block Centre AV Pittsburgh, PA 15213   \n",
       "2016-08-03 14:55:00  4200 Block Steubenville PKE Pittsburgh, PA 15205   \n",
       "2016-08-03 16:45:00        900 Block Freeport RD Fox Chapel, PA 15238   \n",
       "2016-08-05 02:36:00       Foreland ST & Cedar AV Pittsburgh, PA 15212   \n",
       "2016-08-06 02:00:00         900 Block Woodlow ST Pittsburgh, PA 15205   \n",
       "\n",
       "                                                              OFFENSES  \\\n",
       "ARRESTTIME                                                               \n",
       "2016-08-24 12:20:00                                 3929 Retail Theft.   \n",
       "2016-08-03 14:55:00       13(a)(16) Possession of Controlled Substance   \n",
       "2016-08-03 16:45:00                                 3929 Retail Theft.   \n",
       "2016-08-05 02:36:00  5503 Disorderly Conduct. / 5505 Public Drunken...   \n",
       "2016-08-06 02:00:00  2702 Aggravated Assault. / 2705 Recklessy Enda...   \n",
       "\n",
       "                                                     INCIDENTLOCATION  \\\n",
       "ARRESTTIME                                                              \n",
       "2016-08-24 12:20:00         4700 Block Centre AV Pittsburgh, PA 15213   \n",
       "2016-08-03 14:55:00  4200 Block Steubenville PKE Pittsburgh, PA 15205   \n",
       "2016-08-03 16:45:00        900 Block Freeport RD Fox Chapel, PA 15238   \n",
       "2016-08-05 02:36:00       Foreland ST & Cedar AV Pittsburgh, PA 15212   \n",
       "2016-08-06 02:00:00         900 Block Woodlow ST Pittsburgh, PA 15205   \n",
       "\n",
       "                    INCIDENTNEIGHBORHOOD INCIDENTZONE  INCIDENTTRACT  \\\n",
       "ARRESTTIME                                                             \n",
       "2016-08-24 12:20:00           Bloomfield            5          804.0   \n",
       "2016-08-03 14:55:00         Outside City          OSC         5599.0   \n",
       "2016-08-03 16:45:00             Westwood            5         2811.0   \n",
       "2016-08-05 02:36:00       East Allegheny            1         2304.0   \n",
       "2016-08-06 02:00:00      Crafton Heights            5         2814.0   \n",
       "\n",
       "                     COUNCIL_DISTRICT  PUBLIC_WORKS_DIVISION          X  \\\n",
       "ARRESTTIME                                                                \n",
       "2016-08-24 12:20:00               8.0                    2.0 -79.949277   \n",
       "2016-08-03 14:55:00               NaN                    NaN -80.088018   \n",
       "2016-08-03 16:45:00               9.0                    2.0 -79.891803   \n",
       "2016-08-05 02:36:00               1.0                    1.0 -80.001939   \n",
       "2016-08-06 02:00:00               2.0                    5.0 -80.052204   \n",
       "\n",
       "                             Y  \n",
       "ARRESTTIME                      \n",
       "2016-08-24 12:20:00  40.452551  \n",
       "2016-08-03 14:55:00  40.440136  \n",
       "2016-08-03 16:45:00  40.486625  \n",
       "2016-08-05 02:36:00  40.454080  \n",
       "2016-08-06 02:00:00  40.445900  "
      ]
     },
     "execution_count": 3,
     "metadata": {},
     "output_type": "execute_result"
    }
   ],
   "source": [
    "data.head(5)"
   ]
  },
  {
   "cell_type": "markdown",
   "metadata": {},
   "source": [
    "Lets take a look at the arrest made each year"
   ]
  },
  {
   "cell_type": "code",
   "execution_count": 4,
   "metadata": {},
   "outputs": [
    {
     "data": {
      "text/plain": [
       "ARRESTTIME\n",
       "2015-12-31       17\n",
       "2016-12-31     4146\n",
       "2017-12-31    12179\n",
       "2018-12-31    10899\n",
       "2019-12-31    10731\n",
       "2020-12-31     7938\n",
       "2021-12-31     7430\n",
       "2022-12-31     6729\n",
       "2023-12-31     6371\n",
       "Freq: A-DEC, dtype: int64"
      ]
     },
     "execution_count": 4,
     "metadata": {},
     "output_type": "execute_result"
    }
   ],
   "source": [
    "data.resample(\"Y\").size()"
   ]
  },
  {
   "cell_type": "code",
   "execution_count": 5,
   "metadata": {},
   "outputs": [
    {
     "data": {
      "text/plain": [
       "<matplotlib.axes._subplots.AxesSubplot at 0x7f9ef99a4490>"
      ]
     },
     "execution_count": 5,
     "metadata": {},
     "output_type": "execute_result"
    },
    {
     "data": {
      "image/png": "[encoded data removed]",
      "text/plain": [
       "<Figure size 432x288 with 1 Axes>"
      ]
     },
     "metadata": {
      "needs_background": "light"
     },
     "output_type": "display_data"
    }
   ],
   "source": [
    "data['_id'].resample(\"Y\").count().plot()"
   ]
  },
  {
   "cell_type": "markdown",
   "metadata": {},
   "source": [
    "Hmm looks like 2015's arrest data may be incomplete. Overall, there seems to be a general decline of arrests according to the data set."
   ]
  },
  {
   "cell_type": "code",
   "execution_count": null,
   "metadata": {},
   "outputs": [],
   "source": []
  }
 ],
 "metadata": {
  "kernelspec": {
   "display_name": "Python 3",
   "language": "python",
   "name": "python3"
  },
  "language_info": {
   "codemirror_mode": {
    "name": "ipython",
    "version": 3
   },
   "file_extension": ".py",
   "mimetype": "text/x-python",
   "name": "python",
   "nbconvert_exporter": "python",
   "pygments_lexer": "ipython3",
   "version": "3.8.3"
  }
 },
 "nbformat": 4,
 "nbformat_minor": 4
}
