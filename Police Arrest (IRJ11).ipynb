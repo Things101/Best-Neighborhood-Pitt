{
 "cells": [
  {
   "cell_type": "markdown",
   "metadata": {},
   "source": [
    "<h2>DataSet: <a href=\"https://data.wprdc.org/dataset/arrest-data\">Pittsburgh Police Arrest Data</a></h2>\n",
    "\n",
    "This notebook focuses on the areas where people have been taken into custody. One submetric of being the best neighborhood in Pittsburgh would be safety. This notebook would evaluate the safety of certain neighborhoods in Pittsburgh to a particular degree."
   ]
  },
  {
   "cell_type": "code",
   "execution_count": null,
   "metadata": {},
   "outputs": [],
   "source": []
  }
 ],
 "metadata": {
  "kernelspec": {
   "display_name": "Python 3",
   "language": "python",
   "name": "python3"
  },
  "language_info": {
   "codemirror_mode": {
    "name": "ipython",
    "version": 3
   },
   "file_extension": ".py",
   "mimetype": "text/x-python",
   "name": "python",
   "nbconvert_exporter": "python",
   "pygments_lexer": "ipython3",
   "version": "3.8.3"
  }
 },
 "nbformat": 4,
 "nbformat_minor": 4
}
